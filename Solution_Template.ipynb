{
 "cells": [
  {
   "cell_type": "markdown",
   "metadata": {},
   "source": [
    "<center><h1> Artifical and Computational Intelligence Assignment 1 </h1></center>\n",
    " \n",
    "Problem Solving by using A*\n",
    "\n",
    "Weightage: 13%\n",
    "\n",
    "Date of Posting - 09/Dec/2019\n",
    "\n",
    "Deadline - 24/Dec/2019"
   ]
  },
  {
   "cell_type": "markdown",
   "metadata": {},
   "source": [
    "Please Enter group and Individual information below:\n",
    "\n",
    "Group ID/Number:\n",
    "\n",
    "Group Members BITS ID:"
   ]
  },
  {
   "cell_type": "markdown",
   "metadata": {},
   "source": [
    "<h3>Things to Follow</h3>\n",
    "\n",
    "1. Use appropriate data structures for the fringes and explain the reasoning behind the usage. You need not create data structures, instead use available libraries directly.\n",
    "\n",
    "2. Avoid any hard-coding unless absolutely necessary.\n",
    "\n",
    "3. Provide proper documentation\n",
    "\n",
    "4. Read the question file provided carefully and attempt all the questions! "
   ]
  },
  {
   "cell_type": "markdown",
   "metadata": {},
   "source": [
    "Coding begins now!!!"
   ]
  },
  {
   "cell_type": "markdown",
   "metadata": {},
   "source": [
    "1) Define the environment representation in the following code block"
   ]
  },
  {
   "cell_type": "code",
   "execution_count": null,
   "metadata": {},
   "outputs": [],
   "source": [
    "#Environment representation goes here\n"
   ]
  },
  {
   "cell_type": "markdown",
   "metadata": {},
   "source": [
    "Define the haversine formula and what it does"
   ]
  },
  {
   "cell_type": "raw",
   "metadata": {},
   "source": [
    "#haversine formula representation \n"
   ]
  },
  {
   "cell_type": "markdown",
   "metadata": {},
   "source": [
    "2) Define a function which calculates the heuristic distance from each city to the destination city in the following code block"
   ]
  },
  {
   "cell_type": "code",
   "execution_count": null,
   "metadata": {},
   "outputs": [],
   "source": [
    "#Function for calculating distance from each node/city to Destination\n"
   ]
  },
  {
   "cell_type": "code",
   "execution_count": null,
   "metadata": {},
   "outputs": [],
   "source": [
    "#Code Block 2 .."
   ]
  },
  {
   "cell_type": "markdown",
   "metadata": {},
   "source": [
    "3) Implementation of A* Algorithm . Feel free to add code blocks for each methods needed starting here.\n",
    "Please modularize the implementation of A* and write each of them in a code block. "
   ]
  },
  {
   "cell_type": "code",
   "execution_count": null,
   "metadata": {},
   "outputs": [],
   "source": [
    "#Code Block 1\n"
   ]
  },
  {
   "cell_type": "code",
   "execution_count": null,
   "metadata": {},
   "outputs": [],
   "source": [
    "#Code Block 2 .. "
   ]
  },
  {
   "cell_type": "markdown",
   "metadata": {},
   "source": [
    "Call your main function/algorithm block in the next code block with appropriate input representation"
   ]
  },
  {
   "cell_type": "code",
   "execution_count": null,
   "metadata": {},
   "outputs": [],
   "source": [
    "#Computation call\n"
   ]
  },
  {
   "cell_type": "markdown",
   "metadata": {},
   "source": [
    "The agent should provide expected output for questions mentioned below in the subsequent blocks"
   ]
  },
  {
   "cell_type": "markdown",
   "metadata": {},
   "source": [
    "(3.1) Path taken to reach destination from Panaji"
   ]
  },
  {
   "cell_type": "code",
   "execution_count": null,
   "metadata": {},
   "outputs": [],
   "source": [
    "# Execute statement to retrieve the path taken here\n"
   ]
  },
  {
   "cell_type": "markdown",
   "metadata": {},
   "source": [
    "(3.2) Cost of the path"
   ]
  },
  {
   "cell_type": "code",
   "execution_count": null,
   "metadata": {},
   "outputs": [],
   "source": [
    "# Execute statement to retrieve the cost of the path here\n"
   ]
  },
  {
   "cell_type": "markdown",
   "metadata": {},
   "source": [
    "(3.3) Total Number of nodes vistied to get this state"
   ]
  },
  {
   "cell_type": "code",
   "execution_count": null,
   "metadata": {},
   "outputs": [],
   "source": [
    "# Execute statement to retrieve the total number of nodes visited to get this state here\n"
   ]
  },
  {
   "cell_type": "markdown",
   "metadata": {},
   "source": [
    "<center>All the best!! Happy Coding!!Let human intelligence prevail</center>\n",
    "<center>**********************************************************</center>"
   ]
  }
 ],
 "metadata": {
  "kernelspec": {
   "display_name": "Python 2",
   "language": "python",
   "name": "python2"
  },
  "language_info": {
   "codemirror_mode": {
    "name": "ipython",
    "version": 2
   },
   "file_extension": ".py",
   "mimetype": "text/x-python",
   "name": "python",
   "nbconvert_exporter": "python",
   "pygments_lexer": "ipython2",
   "version": "2.7.15+"
  }
 },
 "nbformat": 4,
 "nbformat_minor": 2
}
